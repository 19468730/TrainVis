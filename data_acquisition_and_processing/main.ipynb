{
 "metadata": {
  "language_info": {
   "codemirror_mode": {
    "name": "ipython",
    "version": 3
   },
   "file_extension": ".py",
   "mimetype": "text/x-python",
   "name": "python",
   "nbconvert_exporter": "python",
   "pygments_lexer": "ipython3",
   "version": "3.8.2"
  },
  "orig_nbformat": 4,
  "kernelspec": {
   "name": "python3",
   "display_name": "Python 3.8.2 64-bit ('base': conda)"
  },
  "interpreter": {
   "hash": "38e6ac38d13caeb4e2c482d1508df220fea528b0f5fa230975fe863347c5d547"
  }
 },
 "nbformat": 4,
 "nbformat_minor": 2,
 "cells": [
  {
   "cell_type": "code",
   "execution_count": null,
   "metadata": {},
   "outputs": [],
   "source": [
    "import spider_telecode\n",
    "import spider_station_geo\n",
    "import spider_traininfo\n",
    "import json_station_geo\n",
    "import json_train"
   ]
  },
  {
   "source": [
    "#根据车站基础数据获取包含电报码的车站初步信息（在moerail.ml网站爬取）\n",
    "hunter = spider_telecode.HuntTelecode()\n",
    "hunter.saveData()\n",
    "hunter.findInMongoDB()\n",
    "hunter.patchInvalid()"
   ],
   "cell_type": "code",
   "metadata": {
    "tags": [
     "outputPrepend"
    ]
   },
   "execution_count": null,
   "outputs": []
  },
  {
   "cell_type": "code",
   "execution_count": null,
   "metadata": {
    "tags": [
     "outputPrepend"
    ]
   },
   "outputs": [],
   "source": [
    "#根据车站初步信息生成地理位置信息（利用高德地图api获得）\n",
    "geo = spider_station_geo.CreateStationGeo()\n",
    "geo.saveData()"
   ]
  },
  {
   "cell_type": "code",
   "execution_count": null,
   "metadata": {},
   "outputs": [],
   "source": [
    "#根据数据库中的车站信息生成json文件\n",
    "create_geo_json = json_station_geo.CreateGeoJson()\n",
    "create_geo_json.outputJsonFile()"
   ]
  },
  {
   "cell_type": "code",
   "execution_count": null,
   "metadata": {},
   "outputs": [],
   "source": [
    "#根据车次基础数据提取所有车次信息和车次代号（去除冗余信息）\n",
    "train_info = json_train.TrainInfo()\n",
    "train_info.jsonTotxt()"
   ]
  },
  {
   "cell_type": "code",
   "execution_count": null,
   "metadata": {
    "tags": [
     "outputPrepend"
    ]
   },
   "outputs": [],
   "source": [
    "#根据车次信息获取列车详细信息（在oklx.com网站爬取）\n",
    "get_train_info = spider_traininfo.GetTrainInfo(8314, 0)\n",
    "get_train_info.saveToMongoDB()\n",
    "get_train_info.patchInvalid()"
   ]
  }
 ]
}