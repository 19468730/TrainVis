{
 "metadata": {
  "language_info": {
   "codemirror_mode": {
    "name": "ipython",
    "version": 3
   },
   "file_extension": ".py",
   "mimetype": "text/x-python",
   "name": "python",
   "nbconvert_exporter": "python",
   "pygments_lexer": "ipython3",
   "version": "3.8.5"
  },
  "orig_nbformat": 2,
  "kernelspec": {
   "name": "python385jvsc74a57bd0b3ba2566441a7c06988d0923437866b63cedc61552a5af99d1f4fb67d367b25f",
   "display_name": "Python 3.8.5 64-bit ('base': conda)"
  }
 },
 "nbformat": 4,
 "nbformat_minor": 2,
 "cells": [
  {
   "cell_type": "code",
   "execution_count": 3,
   "metadata": {},
   "outputs": [],
   "source": [
    "import itertools\n",
    "from itertools import groupby\n",
    "import pandas as pd\n",
    "from pymongo import MongoClient"
   ]
  },
  {
   "cell_type": "code",
   "execution_count": 25,
   "metadata": {},
   "outputs": [],
   "source": [
    "class Addition(object):\n",
    "    def __init__(self):\n",
    "        self.client = MongoClient('localhost', port=27017)\n",
    "        self.db = self.client.train\n",
    "        self.train = self.db.Train\n",
    "        self.station = self.db.Station \n",
    "\n",
    "        self.train_df = pd.DataFrame(self.train.find({}, {'_id': 0}))\n",
    "        self.train_df = self.train_df.drop_duplicates(subset='No', keep='first', inplace=False)\n",
    "\n",
    "        self.station_df = pd.DataFrame(self.station.find({}, {'_id': 0}))\n",
    "        self.station_df = self.station_df.drop_duplicates(subset='name', keep='first', inplace=False)\n",
    "\n",
    "        self.type_dict = {'高速动车组': 'G', '普通动车组': 'D', '城际动车组': 'C', '快速': 'K',\n",
    "                          '普快': '9', '直达特快': 'Z', '特快': 'T', '其他': 'O'}\n",
    "                          \n",
    "    def addTrainsOfStation(self):\n",
    "        \"\"\"\n",
    "        将各个站点通过的列车加入Station表单\n",
    "        :return: None\n",
    "        \"\"\"\n",
    "        station = self.train_df.key.tolist()\n",
    "        passby = list(zip(self.train_df.code, self.train_df.key))\n",
    "        # 添加经过车站的列车\n",
    "        trainsOfStation = {}\n",
    "        for (code, names) in passby:\n",
    "            for name in names:\n",
    "                if name in trainsOfStation:\n",
    "                    trainsOfStation[name].append(code)\n",
    "                elif name != \"\":\n",
    "                    trainsOfStation[name] = []\n",
    "        for (name, codes) in trainsOfStation.items():\n",
    "            #print(name, codes)              \n",
    "            query = {\"name\":name}\n",
    "            newvalues = { \"$set\": { \"trains\": codes } }\n",
    "            self.station.update_one(query, newvalues)"
   ]
  },
  {
   "cell_type": "code",
   "execution_count": 26,
   "metadata": {},
   "outputs": [],
   "source": [
    "addition = Addition()\n",
    "addition.addTrainsOfStation()\n",
    "#print(ls)"
   ]
  },
  {
   "cell_type": "code",
   "execution_count": null,
   "metadata": {},
   "outputs": [],
   "source": []
  }
 ]
}