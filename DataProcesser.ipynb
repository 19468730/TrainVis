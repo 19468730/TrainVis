{
 "metadata": {
  "language_info": {
   "codemirror_mode": {
    "name": "ipython",
    "version": 3
   },
   "file_extension": ".py",
   "mimetype": "text/x-python",
   "name": "python",
   "nbconvert_exporter": "python",
   "pygments_lexer": "ipython3",
   "version": "3.8.5"
  },
  "orig_nbformat": 2,
  "kernelspec": {
   "name": "python3",
   "display_name": "Python 3.8.5 64-bit ('base': conda)"
  },
  "interpreter": {
   "hash": "b3ba2566441a7c06988d0923437866b63cedc61552a5af99d1f4fb67d367b25f"
  }
 },
 "nbformat": 4,
 "nbformat_minor": 2,
 "cells": [
  {
   "cell_type": "code",
   "execution_count": 151,
   "metadata": {},
   "outputs": [],
   "source": [
    "import itertools\n",
    "from itertools import groupby\n",
    "import pandas as pd\n",
    "import numpy as np\n",
    "from pymongo import MongoClient\n",
    "import json\n",
    "import math"
   ]
  },
  {
   "cell_type": "code",
   "execution_count": 168,
   "metadata": {},
   "outputs": [],
   "source": [
    "class DataProcessor(object):\n",
    "    def __init__(self):\n",
    "        self.client = MongoClient('localhost', port=27017)\n",
    "        self.db = self.client.train\n",
    "        self.train = self.db.Train\n",
    "        self.station = self.db.Station \n",
    "\n",
    "        self.train_df = pd.DataFrame(self.train.find({}, {'_id': 0}))\n",
    "        self.train_df = self.train_df.drop_duplicates(subset='No', keep='first', inplace=False)\n",
    "\n",
    "        self.station_df = pd.DataFrame(self.station.find({}, {'_id': 0}))\n",
    "        self.station_df = self.station_df.drop_duplicates(subset='name', keep='first', inplace=False)\n",
    "\n",
    "        self.mergedTrainLs = [] \n",
    "        self.adjacency_df = []\n",
    "                          \n",
    "    def addTrainsOfStation(self):\n",
    "        \"\"\"\n",
    "        将各个站点的经停列车加入Station表单\n",
    "        :return: None\n",
    "        \"\"\"\n",
    "        station = self.train_df.key.tolist()\n",
    "        passby = list(zip(self.train_df.code, self.train_df.key))\n",
    "        # 添加经过车站的列车\n",
    "        trainsOfStation = {}\n",
    "        for (code, names) in passby:\n",
    "            for name in names:\n",
    "                if name in trainsOfStation:\n",
    "                    trainsOfStation[name].append(code)\n",
    "                elif name != \"\":\n",
    "                    trainsOfStation[name] = []\n",
    "        for (name, codes) in trainsOfStation.items():\n",
    "            #print(name, codes)              \n",
    "            query = {\"name\":name}\n",
    "            newvalues = { \"$set\": { \"trains\": codes } }\n",
    "            self.station.update_one(query, newvalues)\n",
    "\n",
    "    def generateMergedTrain(self):\n",
    "        # 起止站作为第一特征，以距离作为第二特征量\n",
    "        documentsDict = {}\n",
    "        #counter = 0\n",
    "        deleteLs = []\n",
    "        for index,document in self.train_df.iterrows():\n",
    "            start_s = document[\"start_s\"]\n",
    "            end_s = document[\"end_s\"]\n",
    "            km = document[\"km\"]\n",
    "            key1 = f\"{start_s}-{end_s}-{km}\"\n",
    "            key2 = f\"{end_s}-{start_s}-{km}\"\n",
    "            # counter += 1\n",
    "            # if counter > 10:\n",
    "            #     break\n",
    "            # 起止有问题的不要\n",
    "            if start_s == \"\" or end_s == \"\":\n",
    "                #deleteLs.append(key1)\n",
    "                continue\n",
    "            # 分正向与反向两种情况讨论\n",
    "            if key1 in documentsDict:\n",
    "                documentsDict[key1][\"forward\"].append(document[\"code\"])\n",
    "            elif key2 in documentsDict:\n",
    "                documentsDict[key2][\"backward\"].append(document[\"code\"])\n",
    "            else:\n",
    "                documentsDict[key1] = {\"start_s\":start_s, \"end_s\":end_s, \"type\":document[\"type\"],\"distance\":[], \"time\":[], \"stations\":[], \"forward\": [document[\"code\"]], \"backward\":[]}\n",
    "\n",
    "                prev = [0, 0, 0, 0, 0, 0, \"0:00\"]\n",
    "                for item in document[\"info\"]:\n",
    "                    if item[1] == \"\": #筛去空站\n",
    "                        continue\n",
    "                    prev_t = prev[6].split(':')\n",
    "                    prev_t = int(prev_t[0])*60+int(prev_t[1])\n",
    "                    cur_t = item[6].split(':')\n",
    "                    cur_t = int(cur_t[0])*60+int(cur_t[1])\n",
    "                    # 出现时光倒流的不要\n",
    "                    if cur_t < prev_t or int(item[5])-int(prev[5]) < 0:\n",
    "                        documentsDict.pop(key1)\n",
    "                        deleteLs.append(key1)\n",
    "                        break\n",
    "                    documentsDict[key1][\"stations\"].append(item[1])\n",
    "                    documentsDict[key1][\"distance\"].append(int(item[5])-int(prev[5]))\n",
    "                    documentsDict[key1][\"time\"].append(cur_t-prev_t)\n",
    "                    prev = item\n",
    "        self.mergedTrainLs = list(documentsDict.values())\n",
    "        print(\"舍弃的列车:\", len(deleteLs))\n",
    "        print(deleteLs)\n",
    "\n",
    "\n",
    "    # 构建邻接表\n",
    "    def generateAdjacencyList(self):\n",
    "        stationLs = self.station_df.name.tolist()\n",
    "        #print(stationLs[:10])\n",
    "        d = {col:pd.Series([[1e10, 1e10, 0]]*len(stationLs), index=stationLs) for col in stationLs}\n",
    "        self.adjacency_df = pd.DataFrame(d)\n",
    "        print(\"Finish initialization\")\n",
    "        #print(pd.DataFrame(d))\n",
    "        for item in self.mergedTrainLs:\n",
    "            #print()\n",
    "            stations = item[\"stations\"]\n",
    "            pre_time = []  #时间前缀和\n",
    "            pre_dis =[]    #距离前缀和\n",
    "            pre = 0\n",
    "            for it in item[\"time\"]:\n",
    "                pre_time.append(it+pre)\n",
    "                pre = it+pre\n",
    "            pre = 0\n",
    "            for it in item[\"distance\"]:\n",
    "                pre_dis.append(it+pre)\n",
    "                pre = it+pre\n",
    "            # 更新任意两站间的关系\n",
    "            for i in range(len(stations)):\n",
    "                if not (stations[i] in stationLs):\n",
    "                    continue\n",
    "                for j in range(i+1, len(stations)):\n",
    "                    if not (stations[j] in stationLs):\n",
    "                        continue\n",
    "                    ls = self.adjacency_df[stations[i]][stations[j]].copy()\n",
    "                    # 更新时间依据\n",
    "                    if ls[0] > pre_time[j]-pre_time[i]:\n",
    "                        ls[0] = pre_time[j]-pre_time[i]\n",
    "                        #ls[3] = item[\"type\"]\n",
    "                    # 更新空间依据\n",
    "                    if ls[1] > pre_dis[j]-pre_dis[i]:\n",
    "                        ls[1] = pre_dis[j]-pre_dis[i]\n",
    "                        #ls[4] = item[\"type\"]\n",
    "                    ls[2] += (len(item[\"forward\"])+len(item[\"backward\"]))\n",
    "                    self.adjacency_df[stations[i]][stations[j]] = ls.copy()\n",
    "                    self.adjacency_df[stations[j]][stations[i]] = ls.copy()\n",
    "            #print(item[\"start_s\"]+item[\"end_s\"]+\"ok\")\n",
    "    \n",
    "    # 计算可达性,3个最近的车站，直接相连的城市，使用经停列车数作为权重参数\n",
    "    def calAccess(self):\n",
    "        # 建立站-值对应表\n",
    "        stationValue = {}\n",
    "        for index,document in self.station_df.iterrows():\n",
    "            if document[\"trains\"] is np.nan: #nan是个大坑, 以及没有车经过的站居然存在\n",
    "                stationValue[document[\"name\"]] = -1\n",
    "            elif len(document[\"trains\"]) == 0:\n",
    "                stationValue[document[\"name\"]] = -1\n",
    "            else:\n",
    "                stationValue[document[\"name\"]] = math.log(len(document[\"trains\"]))\n",
    "\n",
    "        # 计算每条路线带来的可达性\n",
    "        trainAccess = {}   # 每条线的可达性\n",
    "        passby = list(zip(self.train_df.code, self.train_df.key))\n",
    "        for code, stations in passby:\n",
    "            value = 0\n",
    "            for station in stations:\n",
    "                if station in stationValue:\n",
    "                    value += stationValue[station]\n",
    "            trainAccess[code] = value\n",
    "        #print(trainAccess.items())\n",
    "        \n",
    "        # 计算每个站点的可达性\n",
    "        stationAccess = {}\n",
    "        for index,document in self.station_df.iterrows():\n",
    "            if document[\"trains\"] is np.nan: #nan是个大坑, 以及没有车经过的站居然存在\n",
    "                stationAccess[document[\"name\"]] = -1\n",
    "            elif len(document[\"trains\"]) == 0:\n",
    "                stationAccess[document[\"name\"]] = -1\n",
    "            else:\n",
    "                avalue = 0\n",
    "                for code in document[\"trains\"]:\n",
    "                    if code in trainAccess:\n",
    "                        avalue+= trainAccess[code]\n",
    "                    # key = self.train_df[self.train_df[\"code\"] == code].key\n",
    "                    # if len(key) > 0:\n",
    "                    #     key[0]\n",
    "                stationAccess[document[\"name\"]] = avalue\n",
    "\n",
    "        # 构造可达性信息json文件\n",
    "        with open(\"AccessInfo.json\", 'w', encoding =\"utf-8\") as fw:\n",
    "            fw.write(json.dumps(stationAccess, ensure_ascii=False))\n",
    "        \n",
    "\n",
    "# 实例化数据处理器\n",
    "processor = DataProcessor()"
   ]
  },
  {
   "cell_type": "code",
   "execution_count": 169,
   "metadata": {},
   "outputs": [],
   "source": [
    "processor.calAccess()"
   ]
  },
  {
   "cell_type": "code",
   "execution_count": 109,
   "metadata": {},
   "outputs": [
    {
     "output_type": "stream",
     "name": "stdout",
     "text": [
      "舍弃的列车: 32\n['安达-齐齐哈尔南-1', '吐鲁番北-乌鲁木齐南-158', '吐鲁番北-乌鲁木齐南-158', '吐鲁番北-乌鲁木齐南-158', '深圳北-乐昌东-1499', '南京南-黄山北-739', '温州南-徐州东-1017', '北京-北安-1594', '昌图-铁岭-0', '莱西-枣庄西-0', '海拉尔-大庆-1090', '七台河-青山-606', '神树-白奎堡-321', '大连-沈阳-533', '八里甸子-小市-0', '八里甸子-小市-0', '淮北-水家湖-283', '北京-包头-697', '鸡西-富拉尔基-1157', '沈阳-元宝山-547', '凌源-小东-459', '赤峰南-小东-464', '包头-青岛北-1762', '武昌-十堰-493', '土地堂东-咸宁南-172', '西安-南宁-2211', '济南-伊宁-3795', '青岛-清河城-1753', '无锡-怀化-1941', '上海-伊宁-4742', '厦门北-南昌西-773', '哈尔滨西-天津西-1109']\n"
     ]
    }
   ],
   "source": [
    "# 将同一线路的列车合并\n",
    "processor.generateMergedTrain()"
   ]
  },
  {
   "cell_type": "code",
   "execution_count": null,
   "metadata": {},
   "outputs": [],
   "source": [
    "# !危险操作! 向数据库加入车站经停列车信息\n",
    "processor.addTrainsOfStation()"
   ]
  },
  {
   "cell_type": "code",
   "execution_count": 94,
   "metadata": {},
   "outputs": [],
   "source": [
    "# 构造新的列车信息json文件\n",
    "with open(\"MergedTrainInfo.json\", 'w', encoding =\"utf-8\") as fw:\n",
    "    fw.write(json.dumps(processor.mergedTrainLs, ensure_ascii=False))"
   ]
  },
  {
   "cell_type": "code",
   "execution_count": 110,
   "metadata": {},
   "outputs": [
    {
     "output_type": "stream",
     "name": "stdout",
     "text": [
      "Finish initialization\n"
     ]
    }
   ],
   "source": [
    "# 构建邻接矩阵\n",
    "processor.generateAdjacencyList()"
   ]
  },
  {
   "cell_type": "code",
   "execution_count": 95,
   "metadata": {},
   "outputs": [
    {
     "output_type": "stream",
     "name": "stdout",
     "text": [
      "{'start_s': '沈阳北', 'end_s': '北京', 'type': '普通动车组', 'distance': [0, 20, 80, 39, 66, 263, 16, 148, 151], 'time': [0, 15, 38, 14, 26, 89, 20, 70, 73], 'stations': ['沈阳北', '沈阳南', '鞍山西', '海城西', '盘锦', '山海关', '秦皇岛', '唐山北', '北京'], 'forward': ['D14', 'D52', '2550', '4216'], 'backward': ['D51']}\n"
     ]
    }
   ],
   "source": [
    "print(processor.mergedTrainLs[2])"
   ]
  },
  {
   "cell_type": "code",
   "execution_count": 111,
   "metadata": {},
   "outputs": [
    {
     "output_type": "stream",
     "name": "stdout",
     "text": [
      "[117, 410, 14]\n"
     ]
    }
   ],
   "source": [
    "print(processor.adjacency_df[\"北京南\"][\"济南东\"])"
   ]
  },
  {
   "cell_type": "code",
   "execution_count": 112,
   "metadata": {},
   "outputs": [],
   "source": [
    "# 储存邻接矩阵\r\n",
    "processor.adjacency_df.to_csv(\"adjacency_table.csv\")"
   ]
  },
  {
   "cell_type": "code",
   "execution_count": 117,
   "metadata": {},
   "outputs": [
    {
     "output_type": "stream",
     "name": "stdout",
     "text": [
      "[117, 410, 14]\n"
     ]
    }
   ],
   "source": [
    "# 读取邻接矩阵\n",
    "ff= pd.read_csv(\"adjacency_table.csv\", index_col=0)\n",
    "print(ff[\"北京南\"][\"济南东\"])"
   ]
  },
  {
   "cell_type": "code",
   "execution_count": null,
   "metadata": {},
   "outputs": [],
   "source": [
    "# 计算可达性\n"
   ]
  }
 ]
}