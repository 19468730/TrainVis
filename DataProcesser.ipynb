{
 "metadata": {
  "language_info": {
   "codemirror_mode": {
    "name": "ipython",
    "version": 3
   },
   "file_extension": ".py",
   "mimetype": "text/x-python",
   "name": "python",
   "nbconvert_exporter": "python",
   "pygments_lexer": "ipython3",
   "version": "3.8.5"
  },
  "orig_nbformat": 2,
  "kernelspec": {
   "name": "python3",
   "display_name": "Python 3.8.5 64-bit ('base': conda)"
  },
  "interpreter": {
   "hash": "b3ba2566441a7c06988d0923437866b63cedc61552a5af99d1f4fb67d367b25f"
  }
 },
 "nbformat": 4,
 "nbformat_minor": 2,
 "cells": [
  {
   "cell_type": "code",
   "execution_count": 18,
   "metadata": {},
   "outputs": [],
   "source": [
    "import itertools\n",
    "from itertools import groupby\n",
    "import pandas as pd\n",
    "from pymongo import MongoClient\n",
    "import json"
   ]
  },
  {
   "cell_type": "code",
   "execution_count": 27,
   "metadata": {},
   "outputs": [],
   "source": [
    "class DataProcesser(object):\n",
    "    def __init__(self):\n",
    "        self.client = MongoClient('localhost', port=27017)\n",
    "        self.db = self.client.train\n",
    "        self.train = self.db.Train\n",
    "        self.station = self.db.Station \n",
    "\n",
    "        self.train_df = pd.DataFrame(self.train.find({}, {'_id': 0}))\n",
    "        self.train_df = self.train_df.drop_duplicates(subset='No', keep='first', inplace=False)\n",
    "\n",
    "        self.station_df = pd.DataFrame(self.station.find({}, {'_id': 0}))\n",
    "        self.station_df = self.station_df.drop_duplicates(subset='name', keep='first', inplace=False)\n",
    "\n",
    "        self.type_dict = {'高速动车组': 'G', '普通动车组': 'D', '城际动车组': 'C', '快速': 'K',\n",
    "                          '普快': '9', '直达特快': 'Z', '特快': 'T', '其他': 'O'}\n",
    "                          \n",
    "    def addTrainsOfStation(self):\n",
    "        \"\"\"\n",
    "        将各个站点的经停列车加入Station表单\n",
    "        :return: None\n",
    "        \"\"\"\n",
    "        station = self.train_df.key.tolist()\n",
    "        passby = list(zip(self.train_df.code, self.train_df.key))\n",
    "        # 添加经过车站的列车\n",
    "        trainsOfStation = {}\n",
    "        for (code, names) in passby:\n",
    "            for name in names:\n",
    "                if name in trainsOfStation:\n",
    "                    trainsOfStation[name].append(code)\n",
    "                elif name != \"\":\n",
    "                    trainsOfStation[name] = []\n",
    "        for (name, codes) in trainsOfStation.items():\n",
    "            #print(name, codes)              \n",
    "            query = {\"name\":name}\n",
    "            newvalues = { \"$set\": { \"trains\": codes } }\n",
    "            self.station.update_one(query, newvalues)\n",
    "\n",
    "    def generateMergedTrain(self):\n",
    "        resLs = []\n",
    "        # 起止站作为第一特征，以距离作为第二特征量\n",
    "        documentsDict = {}\n",
    "        #counter = 0\n",
    "        for index,document in self.train_df.iterrows():\n",
    "            start_s = document[\"start_s\"]\n",
    "            end_s = document[\"end_s\"]\n",
    "            km = document[\"km\"]\n",
    "            key1 = f\"{start_s}-{end_s}-{km}\"\n",
    "            key2 = f\"{end_s}-{start_s}-{km}\"\n",
    "            # counter += 1\n",
    "            # if counter > 10:\n",
    "            #     break\n",
    "            # 起止有问题的不要\n",
    "            if start_s == \"\" or end_s == \"\":\n",
    "                continue\n",
    "            # 分正向与反向两种情况讨论\n",
    "            if key1 in documentsDict:\n",
    "                documentsDict[key1][\"forward\"].append(document[\"code\"])\n",
    "            elif key2 in documentsDict:\n",
    "                documentsDict[key2][\"backward\"].append(document[\"code\"])\n",
    "            else:\n",
    "                documentsDict[key1] = {\"start_s\":start_s, \"end_s\":end_s, \"type\":document[\"type\"],\"distance\":[], \"time\":[], \"stations\":[], \"forward\": [document[\"code\"]], \"backward\":[]}\n",
    "\n",
    "                prev = [0, 0, 0, 0, 0, 0, \"0:00\"]\n",
    "                for item in document[\"info\"]:\n",
    "                    if item[1] == \"\": #筛去空站\n",
    "                        continue\n",
    "                    documentsDict[key1][\"stations\"].append(item[1])\n",
    "                    documentsDict[key1][\"distance\"].append(int(item[5])-int(prev[5]))\n",
    "                    prev_t = prev[6].split(':')\n",
    "                    prev_t = int(prev_t[0])*60+int(prev_t[1])\n",
    "                    cur_t = item[6].split(':')\n",
    "                    cur_t = int(cur_t[0])*60+int(cur_t[1])\n",
    "                    documentsDict[key1][\"time\"].append(cur_t-prev_t)\n",
    "                    prev = item\n",
    "        with open(\"MergedTrainInfo.json\", 'w', encoding =\"utf-8\") as fw:\n",
    "            fw.write(json.dumps(list(documentsDict.values()), ensure_ascii=False))\n",
    "# 实例化数据处理器\n",
    "processer = DataProcesser()"
   ]
  },
  {
   "cell_type": "code",
   "execution_count": null,
   "metadata": {},
   "outputs": [],
   "source": [
    "# 向数据库加入车站经停列车信息\n",
    "processer.addTrainsOfStation()"
   ]
  },
  {
   "cell_type": "code",
   "execution_count": 28,
   "metadata": {},
   "outputs": [],
   "source": [
    "# 将同一线路的列车合并，构造新的列车信息json文件\n",
    "processer.generateMergedTrain()"
   ]
  },
  {
   "cell_type": "code",
   "execution_count": null,
   "metadata": {},
   "outputs": [],
   "source": []
  }
 ]
}